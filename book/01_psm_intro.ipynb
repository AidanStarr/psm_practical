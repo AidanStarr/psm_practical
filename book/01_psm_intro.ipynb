{
 "cells": [
  {
   "cell_type": "markdown",
   "metadata": {},
   "source": [
    "# Introduction to Proxy System Models (PSMs)\n",
    "Paleoclimate observations are the only empirical constraint we have on what the climate system was like prior to the ~19th century. \n"
   ]
  },
  {
   "cell_type": "markdown",
   "metadata": {},
   "source": [
    "```{figure} img/proxy_span_resolution_graph.jpg\n",
    "---\n",
    "height: 150px\n",
    "name: proxy-timescales\n",
    "---\n",
    "Typical timescales covered by various paleoclimate proxy archives.\n",
    "```"
   ]
  }
 ],
 "metadata": {
  "language_info": {
   "name": "python"
  }
 },
 "nbformat": 4,
 "nbformat_minor": 2
}
