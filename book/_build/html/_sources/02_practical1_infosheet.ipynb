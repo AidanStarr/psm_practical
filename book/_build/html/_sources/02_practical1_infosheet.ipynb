{
 "cells": [
  {
   "cell_type": "markdown",
   "metadata": {},
   "source": [
    "# PSM Worksheet 1: $\\delta^{18}O$ of foraminifera\n",
    "In this worksheet, we'll build a simple forward model for the oxygen isotope composition of planktic foraminifera in the ocean. This model will be a **forward model**, meaning it predicts $\\delta^{18}O_{calcite}$ from temperature and $\\delta^{18}O_{seawater}$. \n",
    "\n",
    "We're going to run this model for modern ocean data to give **pseudo-proxy** $\\delta^{18}O_{calcite}$ values for a given foram species, and then compare the output to real \"core-top\" $\\delta^{18}O$ data.  \n",
    "\n",
    "\n"
   ]
  },
  {
   "cell_type": "markdown",
   "metadata": {},
   "source": [
    "## Background\n",
    "_This practical is adapted from the work of [Schmidt, G.A., 1999](https://doi.org/10.1029/1999PA900025)_ and inspired by the work of []\n",
    "\n",
    "### The $\\delta^{18}O$ of foraminifera\n",
    "The oxygen isotope composition of the calcite shells of foraminfera ($\\delta^{18}O_{calcite}$) is potentially the most important proxy in paleoceanography. Early measurements of $\\delta^{18}O_{calcite}$ on planktic foraminifera samples in deep-sea sediment cores gave us our first insight into the rythmic glacial cycles of the Pleistocene [Emiliani et al., 1955](), revealing periodic fluctiations in ocean temperature and global ice volume. \n",
    "\n",
    "$\\delta^{18}O_{calcite}$ is a function of the **ambient $\\delta^{18}O$ of seawater ($\\delta^{18}O_{sw}$) and the water temperature in which the foraminfera formed its shell. The relationship between $\\delta^{18}O_{calcite}$, Temperature (T) and $\\delta^{18}O_{sw}$ is often simplified as:\n",
    "\\begin{align}\n",
    "\\delta^{18}O_{calcite} = \\alpha + \\beta * T + (\\delta^{18}O_{sw}-0.27) \n",
    "\\end{align}\n",
    "\n",
    "In this equation, $\\alpha$ and $\\beta$ are our coefficients (we can use different coefficients from different studies if we want), and we're subtracting 0.27 from $\\delta^{18}O_{sw}$ to convert between VMSOW and VPDB (see box below)."
   ]
  },
  {
   "cell_type": "markdown",
   "metadata": {},
   "source": [
    "```{admonition} Note on delta notation and units \n",
    ":class: tip, dropdown\n",
    "### A note on oxygen isotope scales: VSMOW versus VPDB\n",
    "Oxygen isotope measurements are usually given in \"delta\" notation, with units of \"per mille\" (a.k.a per throusand, denoted by ‰). This is because the absolute abundance of minor isotopes like $^{18}O$ can't be measured accurately, so they are instead compared to a known standard material. You can think of this as _the difference of this sample from this standard x 1000_... or: \n",
    "\n",
    "\\begin{align}\n",
    "\\delta_{sample} = \\frac{R_{sample} - R_{standard}}{R_{standard}} x 1000\n",
    "\\end{align}\n",
    "\n",
    "\n",
    " To make life more confusing for MPhil students, oxygen isotopes measured on seawater are usually reported relative to a standard material known as Vienna Standard Mean Ocean Water (VSMOW), while carbonate oxygen isotope isotopes are usually reported relative to a carbonate standard known as Vienna PeeDee Belemnite (VPDB).\n",
    "```"
   ]
  },
  {
   "cell_type": "markdown",
   "metadata": {},
   "source": [
    "## Task 1.\n",
    "For task 1, we're gonna start easy...\n",
    "\n",
    "I want you to:\n",
    "- go to [this paper by Gaskell and Hull, 2023](https://doi.org/10.5194/cp-19-1265-2023) and \n",
    "- write a function that "
   ]
  },
  {
   "cell_type": "markdown",
   "metadata": {},
   "source": [
    "## Building the PSM\n",
    "Aim: \n",
    "- generate psuedo-proxy d18Ocarbonate values from measured modern ocean variables (temperature, salinity, d18O of seawater). \n",
    "- compare modelled d18Ocarbonate with observed core-top values\n",
    "\n"
   ]
  },
  {
   "cell_type": "markdown",
   "metadata": {},
   "source": []
  }
 ],
 "metadata": {
  "language_info": {
   "name": "python"
  }
 },
 "nbformat": 4,
 "nbformat_minor": 2
}
