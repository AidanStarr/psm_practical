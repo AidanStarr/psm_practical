{
 "cells": [
  {
   "cell_type": "markdown",
   "metadata": {},
   "source": [
    "# Introduction to Proxy System Models (PSMs)\n",
    "Paleoclimate observations are the only empirical constraint we have on what the climate system was like prior to the ~19th century. However, paleoclimate proxies are often riddled with uncertainties, both in the way they record a given climate signal and in the age of a given sample. Understanding and modelling the way that a proxy system **transforms a climate signal into a measurable geological/biological/chemical/physical property** is therefore very useful for robustly interpreting paleoclimate records.\n",
    "\n",
    "(https://sos.noaa.gov/catalog/datasets/paleoclimate-proxies/)"
   ]
  },
  {
   "cell_type": "markdown",
   "metadata": {},
   "source": [
    "```{figure} img/proxy_span_resolution_graph.jpg\n",
    "---\n",
    "width: 250px\n",
    "name: proxy-timescales\n",
    "---\n",
    "Typical timescales covered by various paleoclimate proxy archives.\n",
    "```"
   ]
  }
 ],
 "metadata": {
  "language_info": {
   "name": "python"
  }
 },
 "nbformat": 4,
 "nbformat_minor": 2
}