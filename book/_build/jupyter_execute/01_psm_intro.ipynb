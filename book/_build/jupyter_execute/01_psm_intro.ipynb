{
 "cells": [
  {
   "cell_type": "markdown",
   "metadata": {},
   "source": [
    "# Introduction to Proxy System Models (PSMs)\n",
    "Paleoclimate observations are the only empirical constraint we have on what the climate system was like prior to the ~19th century. However, paleoclimate proxies are often riddled with uncertainties, both in the way they record a given climate signal and in the age of a given sample. \n",
    "\n",
    "Understanding and modelling the way that a proxy system **transforms a climate signal into a measurable geological/biological/chemical/physical property** is clearly super useful for robustly interpreting paleoclimate records!\n",
    "\n",
    "(https://sos.noaa.gov/catalog/datasets/paleoclimate-proxies/)"
   ]
  },
  {
   "cell_type": "markdown",
   "metadata": {},
   "source": [
    "```{figure} img/proxy_span_resolution_graph.jpg\n",
    "---\n",
    "width: 250px\n",
    "name: proxy-timescales\n",
    "---\n",
    "Typical timescales covered by various paleoclimate proxy archives.\n",
    "```"
   ]
  },
  {
   "cell_type": "markdown",
   "metadata": {},
   "source": [
    "## Calibration Equations\n",
    "To convert a paleoclimate measurement (let's say, [the Mg/Ca ratio of a foraminifera](https://www.nature.com/articles/s43017-022-00294-9) shell) into a climate variable (in this case, ocean temperature), we first need some kind of transfer function. Traditionally, this might be a regression model determined by my measuring the proxy value (e.g. Mg/Ca concentration) from samples with known environmental conditions (e.g. water temperature). \n",
    "\n",
    "Continuing our Mg/Ca example, we could go out into the ocean and collect living formanifera specimens from different regions with varying water temperatures. We could then plot the temperature versus Mg/Ca concentration for all the specimens and use the relationship to obtain a **calibration equation**. For example, we could use the data in {numref}`anand-mgca-calibration` to derive the following equation:\n",
    "\n",
    "\\begin{align}\n",
    "Mg/Ca = 0.38*exp(0.09T)\n",
    "\\end{align}\n",
    "\n",
    "Which would rearrange to give us temperature like so:\n",
    "\n",
    "\\begin{align}\n",
    "T = \\frac{ln(\\frac{Mg/Ca}{0.38})}{0.09}\n",
    "\\end{align}"
   ]
  },
  {
   "cell_type": "markdown",
   "metadata": {},
   "source": [
    "```{figure} img/anand_mgca_calibration.jpg\n",
    "---\n",
    "width: 250px\n",
    "name: anand-mgca-calibration\n",
    "---\n",
    "Calibration for converting Mg/Ca concentration (mmol/mol) to temperature (ºC) by [Anand et al., 2003](https://doi.org/10.1029/2002PA000846). The different symbols represent different foraminifera species. Anand et al., collected these samples from 6 years of sediment traps in the North Atlantic.\n",
    "```"
   ]
  },
  {
   "cell_type": "markdown",
   "metadata": {},
   "source": [
    "## Proxy System Models\n",
    "Whilst these equations can represent uncertainty through e.g. residuals in the regression equation, they often assume that the relationships between proxies and environemntal variables are stationary and linear. "
   ]
  },
  {
   "cell_type": "markdown",
   "metadata": {},
   "source": [
    "### The bones of a PSM\n",
    "The response of a proxy system to climate forcing can divided into 3 components ([Evans et al., 2013](https://doi.org/10.1016/j.quascirev.2013.05.024)):\n",
    "\n",
    "1. _Sensor_: the response of the medium to climate forcing\n",
    "2. _Archive_: the way in which the proxy's sensor reaction is deposited or archived in a layered medium (e.g. sedimentation, ice core layering).\n",
    "3. _Observation_: sampling and measurement of the archive by a paleoclimatologist (accounting for sampling and analytical errors)."
   ]
  },
  {
   "cell_type": "code",
   "execution_count": null,
   "metadata": {},
   "outputs": [],
   "source": []
  }
 ],
 "metadata": {
  "kernelspec": {
   "display_name": "paleoenv",
   "language": "python",
   "name": "python3"
  },
  "language_info": {
   "codemirror_mode": {
    "name": "ipython",
    "version": 3
   },
   "file_extension": ".py",
   "mimetype": "text/x-python",
   "name": "python",
   "nbconvert_exporter": "python",
   "pygments_lexer": "ipython3",
   "version": "3.12.2"
  }
 },
 "nbformat": 4,
 "nbformat_minor": 2
}