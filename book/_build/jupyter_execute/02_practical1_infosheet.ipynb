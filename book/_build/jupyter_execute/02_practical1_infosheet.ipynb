{
 "cells": [
  {
   "cell_type": "markdown",
   "metadata": {},
   "source": [
    "# PSM Worksheet 1: $\\delta^{18}O$ of foraminifera\n",
    "In this worksheet, we'll build a simple forward model for the oxygen isotope composition of planktic foraminifera in the ocean. This model will be a **forward model**, meaning it predicts $\\delta^{18}O_{calcite}$ from temperature and $\\delta^{18}O_{seawater}$. \n",
    "\n",
    "We're going to run this model for modern Atlanic Ocean data to give **pseudo-proxy** $\\delta^{18}O_{calcite}$ values for a given foram species, and then compare the output to real \"core-top\" $\\delta^{18}O$ data.  \n",
    "\n",
    "\n"
   ]
  },
  {
   "cell_type": "markdown",
   "metadata": {},
   "source": [
    "## Background\n",
    "_This practical is inspired by the work of [Schmidt, G.A., 1999](https://doi.org/10.1029/1999PA900025)_ and [Malevich et al., 2019](https://doi.org/10.1029/2019PA003576)\n",
    "\n",
    "### The $\\delta^{18}O$ of foraminifera\n",
    "The oxygen isotope composition of the calcite shells of foraminfera ($\\delta^{18}O_{calcite}$) is potentially the most important proxy in paleoceanography. Early measurements of $\\delta^{18}O_{calcite}$ on planktic foraminifera samples in deep-sea sediment cores gave us our first insight into the rythmic glacial cycles of the Pleistocene [Emiliani et al., 1955](), revealing periodic fluctiations in ocean temperature and global ice volume. \n",
    "\n",
    "$\\delta^{18}O_{calcite}$ is a function of the **ambient $\\delta^{18}O$ of seawater ($\\delta^{18}O_{sw}$)** and the water temperature in which the foraminfera formed its shell. Each species of foraminifera will have distinct seasonal and depth preferences in the ocean. For example, one species might thrive in the upper 50m during July and August, while another might prefer the 100-200m range during April and May. \n",
    "\n",
    "To model a foraminifera shells' $\\delta^{18}O_{calcite}$, we need to know the following things:\n",
    "1. The depth range in which the foraminifera grew it's shell (it's **depth habitat**).\n",
    "2. The month/season that the foraminifera grew it's shell (it's **seasonal preference**).\n",
    "3. An equation relating water temperature and $\\delta^{18}O_{sw}$ to $\\delta^{18}O_{calcite}$.\n",
    "\n",
    "With this information, we want our model to **predict $\\delta^{18}O_{calcite}$ for a given species of planktic foraminifera in the modern ocean**. \n",
    "\n",
    "\n",
    "### 1. Calibration equations\n",
    "The relationship between $\\delta^{18}O_{calcite}$, Temperature (T) and $\\delta^{18}O_{sw}$ has been estimated from laboratory experiments (synthesizing inorganic calcite in a lab) and foraminifera culturing (growing a foram at a known temperature and d18Osw and then measuring the shell). These equations are usually presented in the form:\n",
    "\n",
    "\\begin{align}\n",
    "T = a - b(\\delta^{18}O_{calcite} - \\delta^{18}O_{sw} - 0.27) + c(\\delta^{18}O_{calcite} - \\delta^{18}O_{sw} - 0.27)^2 \n",
    "\\end{align}\n",
    "\n",
    "In this equation, a, b, and c are our coefficients (we can use different coefficients from different studies if we want), and we're subtracting 0.27 from $\\delta^{18}O_{sw}$ to convert between VSMOW and VPDB (see box below).\n",
    "\n",
    "Since we want to predict d18Ocalcite, we need to rearange like so:\n",
    "\n",
    "\\begin{align}\n",
    "\\delta^{18}O_{calcite} = \\delta^{18}O_{sw} + \\frac{b+\\sqrt{b**2-4c(a-T)}}{2c}\n",
    "\\end{align}"
   ]
  },
  {
   "cell_type": "markdown",
   "metadata": {},
   "source": [
    "```{admonition} Note on delta notation and units \n",
    ":class: tip, dropdown\n",
    "### A note on oxygen isotope scales: VSMOW versus VPDB\n",
    "Oxygen isotope measurements are usually given in \"delta\" notation, with units of \"per mille\" (a.k.a per throusand, denoted by ‰). This is because the absolute abundance of minor isotopes like $^{18}O$ can't be measured accurately, so they are instead compared to a known standard material. You can think of this as _the difference of this sample from this standard x 1000_... or: \n",
    "\n",
    "\\begin{align}\n",
    "\\delta_{sample} = \\frac{R_{sample} - R_{standard}}{R_{standard}} x 1000\n",
    "\\end{align}\n",
    "\n",
    "\n",
    " To make life more confusing for MPhil students, oxygen isotopes measured on seawater are usually reported relative to a standard material known as Vienna Standard Mean Ocean Water (VSMOW), while carbonate oxygen isotope isotopes are usually reported relative to a carbonate standard known as Vienna PeeDee Belemnite (VPDB).\n",
    "```"
   ]
  },
  {
   "cell_type": "markdown",
   "metadata": {},
   "source": [
    "For this practical, you should use one of the following sets of coefficients:\n",
    "\n",
    "| Name | a    | b    | c    | ref                   | method                  |\n",
    "|------|------|------|------|-----------------------|-------------------------|\n",
    "| KO97 | 16.1 | 4.64 | 0.05 | Kim and O'Neil (1997) | Inorganic calcite (lab) |\n",
    "| EL83 | 17.0 | 4.52 | 0.03 | Erez and Luz (1983)   | Cultured forams         |\n",
    "| M02  | 14.3 | 4.34 | 0.09 | Mulitza et al., 2002  | Field calibration       |\n"
   ]
  },
  {
   "cell_type": "markdown",
   "metadata": {},
   "source": [
    "## Task 1.\n",
    "For task 1, we're gonna start easy...\n",
    "\n",
    "I want you to:\n",
    "- go to [this paper by Gaskell and Hull, 2023](https://doi.org/10.5194/cp-19-1265-2023) and \n",
    "- write a function that "
   ]
  },
  {
   "cell_type": "markdown",
   "metadata": {},
   "source": [
    "## Building the PSM\n",
    "Aim: \n",
    "- generate psuedo-proxy d18Ocarbonate values from measured modern ocean variables (temperature, salinity, d18O of seawater). \n",
    "- compare modelled d18Ocarbonate with observed core-top values\n",
    "\n"
   ]
  },
  {
   "cell_type": "markdown",
   "metadata": {},
   "source": []
  }
 ],
 "metadata": {
  "language_info": {
   "name": "python"
  }
 },
 "nbformat": 4,
 "nbformat_minor": 2
}