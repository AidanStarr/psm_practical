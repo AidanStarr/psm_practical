{
 "cells": [
  {
   "cell_type": "code",
   "execution_count": 1,
   "metadata": {},
   "outputs": [],
   "source": [
    "import numpy as np\n",
    "import xarray as xr\n",
    "import xesmf as xe\n"
   ]
  },
  {
   "cell_type": "code",
   "execution_count": 2,
   "metadata": {},
   "outputs": [
    {
     "name": "stdout",
     "output_type": "stream",
     "text": [
      "/Users/starr/My Drive/Files/Academia/Teaching/HolClim/PSM practical 2025/psm_practical/book/data\n"
     ]
    }
   ],
   "source": [
    "cd '/Users/starr/My Drive/Files/Academia/Teaching/HolClim/PSM practical 2025/psm_practical/book/data'"
   ]
  },
  {
   "cell_type": "code",
   "execution_count": 3,
   "metadata": {},
   "outputs": [
    {
     "name": "stderr",
     "output_type": "stream",
     "text": [
      "/opt/miniconda3/envs/paleoenv/lib/python3.12/site-packages/xesmf/smm.py:131: UserWarning: Input array is not C_CONTIGUOUS. Will affect performance.\n",
      "  warnings.warn('Input array is not C_CONTIGUOUS. ' 'Will affect performance.')\n",
      "/opt/miniconda3/envs/paleoenv/lib/python3.12/site-packages/xesmf/smm.py:131: UserWarning: Input array is not C_CONTIGUOUS. Will affect performance.\n",
      "  warnings.warn('Input array is not C_CONTIGUOUS. ' 'Will affect performance.')\n"
     ]
    }
   ],
   "source": [
    "\n",
    "### clean and downsample seawater data\n",
    "d18o_sw = xr.open_dataset('/Users/starr/Downloads/D18O_Breitkreuz_et_al_2018.nc')\n",
    "d18o_sw = d18o_sw[['depth_center','lat_1deg_center','lon_1deg_center','D18O_1deg','THETA_1deg','SALT_1deg']]\n",
    "\n",
    "d18o_new = xr.Dataset(\n",
    "    data_vars=dict(d18Osw=([\"month\",\"depth\",\"lat\",\"lon\"],d18o_sw['D18O_1deg'].data),\n",
    "        T=([\"month\",\"depth\",\"lat\",\"lon\"],d18o_sw['THETA_1deg'].data),\n",
    "    ),\n",
    "    coords=dict(lon=d18o_sw['lon_1deg_center'][0,::].data,\n",
    "                lat=d18o_sw['lat_1deg_center'][::,0].data,\n",
    "                month=np.arange(1,13,1),\n",
    "                depth=d18o_sw['depth_center'].data*-1,\n",
    "    ),\n",
    "    attrs=dict(description=\"gridded climatology from Breitkruez et al., 2018 (https://doi.org/10.1029/2018JC014300)\"),\n",
    ")\n",
    "\n",
    "d18o_new['d18Osw'] = d18o_new['d18Osw'].assign_attrs(units=\"Permille VSMOW\",desciption=\"Gridded seawater d18O (1950-1980 climatology)\")\n",
    "d18o_new['T'] = d18o_new['T'].assign_attrs(units=\"deg C\",desciption=\"Gridded seawater temperature (1950-1980 climatology)\")\n",
    "d18o_new = d18o_new.sel(depth=slice(0,800))\n",
    "\n",
    "# regrid to 2 degrees\n",
    "ds_out = xr.Dataset(\n",
    "    {\n",
    "        \"lat\": ([\"lat\"], np.arange(-40,80,2.5), {\"units\": \"degrees_north\"}),\n",
    "        \"lon\": ([\"lon\"], np.arange(-90,40,2.5), {\"units\": \"degrees_east\"}),\n",
    "    }\n",
    ")\n",
    "ds_in = d18o_new\n",
    "regridder = xe.Regridder(ds_in, ds_out, \"bilinear\",periodic=True)\n",
    "d18o_new = regridder(ds_in,keep_attrs=True)\n",
    "\n",
    "\n",
    "\n",
    "mas = '/Users/starr/Downloads/RECCAP2_region_masks_all_v20221025.nc'\n",
    "mask = xr.open_dataset(mas)\n",
    "ds_in = mask['atlantic']\n",
    "ds_out = d18o_new\n",
    "regridder = xe.Regridder(ds_in,ds_out,'nearest_s2d')\n",
    "basin = regridder(ds_in,keep_attrs=True)\n",
    "msk = basin>0\n",
    "d18o_new = d18o_new.where(msk,drop=True)\n",
    "d18o_new.to_netcdf('gridded_seawater_data.nc')\n",
    "\n",
    "\n",
    "##### clean and downsample Plafommodel output\n",
    "warm = xr.open_dataset('/Users/starr/My Drive/Files/Data/Model/PLAFOM/PLAFOM2.0_GLOBAL_MONTHLY_CONC_warm-waterPlankForamSpecies.nc')\n",
    "temp = xr.open_dataset('/Users/starr/My Drive/Files/Data/Model/PLAFOM/PLAFOM2.0_GLOBAL_MONTHLY_CONC_temperate-waterPlankForamSpecies.nc')\n",
    "cold = xr.open_dataset('/Users/starr/My Drive/Files/Data/Model/PLAFOM/PLAFOM2.0_GLOBAL_MONTHLY_CONC_cold-waterPlankForamSpecies.nc')\n",
    "\n",
    "lon = warm['longitude']\n",
    "lon = lon[0,::].data\n",
    "lat = warm['latitude']\n",
    "lat = lat[::,0].data\n",
    "month = ['Feb','Mar','Apr','May','Jun','Jul','Aug','Sep','Oct','Nov','Dec','Jan']\n",
    "depth = warm['ndep'].data / 100\n",
    "\n",
    "plafom = xr.Dataset(\n",
    "    data_vars=dict(GRuberW=([\"month\",\"depth\",\"lat\",\"lon\"],warm['GRuberW'].data),\n",
    "                   GBulloides=([\"month\",\"depth\",\"lat\",\"lon\"],temp['GBulloides'].data),\n",
    "                   NPachyderma=([\"month\",\"depth\",\"lat\",\"lon\"],cold['NPachyderma'].data),\n",
    "    ),\n",
    "    coords=dict(lon=lon,\n",
    "                lat=lat,\n",
    "                month=month,\n",
    "                depth=depth,\n",
    "    ),\n",
    "    attrs=dict(description=\"Global monthly concentration of the cold-water planktonic foraminifera species from Kretschmer et al., 2018 ( https://doi.org/10.5194/bg-15-4405-2018)\"),\n",
    ")\n",
    "\n",
    "plafom['GRuberW'] = plafom['GRuberW'].assign_attrs(description='Monthly concentration of G. ruber white',units='mmol C/m3')\n",
    "plafom['NPachyderma'] = plafom['NPachyderma'].assign_attrs(description='Monthly concentration of N. pachyderma',units='mmol C/m3')\n",
    "plafom['GBulloides'] = plafom['GBulloides'].assign_attrs(description='Monthly concentration of G. bulloides',units='mmol C/m3')\n",
    "\n",
    "# regrid to 2 degrees\n",
    "ds_out = xr.Dataset(\n",
    "    {\n",
    "        \"lat\": ([\"lat\"], np.arange(-40,80,2.5), {\"units\": \"degrees_north\"}),\n",
    "        \"lon\": ([\"lon\"], np.arange(-90,40,2.5), {\"units\": \"degrees_east\"}),\n",
    "    }\n",
    ")\n",
    "ds_in = plafom\n",
    "regridder = xe.Regridder(ds_in, ds_out, \"bilinear\",periodic=True)\n",
    "plafom_re = regridder(ds_in,keep_attrs=True)\n",
    "\n",
    "\n",
    "mas = '/Users/starr/Downloads/RECCAP2_region_masks_all_v20221025.nc'\n",
    "mask = xr.open_dataset(mas)\n",
    "ds_in = mask['atlantic']\n",
    "ds_out = plafom_re\n",
    "regridder = xe.Regridder(ds_in,ds_out,'nearest_s2d',periodic=True)\n",
    "basin = regridder(ds_in,keep_attrs=True)\n",
    "msk = basin>0\n",
    "plafom_re = plafom_re.where(msk,drop=True)\n",
    "plafom_re = plafom_re.sel(depth=slice(0,600))\n",
    "plafom.to_netcdf('plafom_foram_abundance.nc')"
   ]
  },
  {
   "cell_type": "code",
   "execution_count": null,
   "metadata": {},
   "outputs": [],
   "source": []
  }
 ],
 "metadata": {
  "kernelspec": {
   "display_name": "paleoenv",
   "language": "python",
   "name": "python3"
  },
  "language_info": {
   "codemirror_mode": {
    "name": "ipython",
    "version": 3
   },
   "file_extension": ".py",
   "mimetype": "text/x-python",
   "name": "python",
   "nbconvert_exporter": "python",
   "pygments_lexer": "ipython3",
   "version": "3.12.2"
  }
 },
 "nbformat": 4,
 "nbformat_minor": 2
}